{
 "cells": [
  {
   "cell_type": "code",
   "execution_count": null,
   "id": "1bed3ab0",
   "metadata": {},
   "outputs": [],
   "source": [
    "import numpy as np  # array operations\n",
    "import pandas as pd  # time series management\n",
    "from pandas_datareader import data as pdr\n",
    "import yfinance as yf\n",
    "yf.pdr_override() # <== that's all it takes  you can \"hijack\" ``pandas_datareader.data.get_data_yahoo()`` method to use **yfinance:-)"
   ]
  },
  {
   "cell_type": "code",
   "execution_count": null,
   "id": "dd887b68",
   "metadata": {},
   "outputs": [],
   "source": [
    "def getData():\n",
    "    # list of S&P 500 companies \n",
    "    tickers = pd.read_html('https://en.wikipedia.org/wiki/List_of_S%26P_500_companies')[0] # reading zero column \n",
    "    tickers = tickers['Symbol'].to_list() # convert to list\n",
    "    tickers = [i.replace('.','-') for i in tickers] # clean list \n",
    "    data = pd.DataFrame() # create an empty dataframe\n",
    "    for asset in tickers:\n",
    "        data[asset] = pdr.get_data_yahoo(asset, start='2010-01-01')['Adj Close']\n",
    "        data.dropna(axis=1,inplace=True) # clear columns with missing data\n",
    "    return data"
   ]
  },
  {
   "cell_type": "code",
   "execution_count": null,
   "id": "660a64e5",
   "metadata": {},
   "outputs": [],
   "source": [
    "%time data = getData()"
   ]
  },
  {
   "cell_type": "code",
   "execution_count": null,
   "id": "089b8e62",
   "metadata": {},
   "outputs": [],
   "source": [
    "data.info()"
   ]
  },
  {
   "cell_type": "code",
   "execution_count": null,
   "id": "c006a84d",
   "metadata": {},
   "outputs": [],
   "source": [
    "# save data to csv\n",
    "data.to_csv('./dataset/data.csv')"
   ]
  }
 ],
 "metadata": {
  "kernelspec": {
   "display_name": "Python 3 (ipykernel)",
   "language": "python",
   "name": "python3"
  },
  "language_info": {
   "codemirror_mode": {
    "name": "ipython",
    "version": 3
   },
   "file_extension": ".py",
   "mimetype": "text/x-python",
   "name": "python",
   "nbconvert_exporter": "python",
   "pygments_lexer": "ipython3",
   "version": "3.9.12"
  }
 },
 "nbformat": 4,
 "nbformat_minor": 5
}
