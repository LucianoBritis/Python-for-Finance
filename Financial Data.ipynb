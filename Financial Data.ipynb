{
 "cells": [
  {
   "cell_type": "markdown",
   "id": "5b6a2b49",
   "metadata": {},
   "source": [
    "### **Financial Data**"
   ]
  },
  {
   "cell_type": "code",
   "execution_count": 1,
   "id": "7fd6239a",
   "metadata": {},
   "outputs": [],
   "source": [
    "import pandas as pd\n",
    "import numpy as np\n",
    "from pylab import plt\n",
    "plt.style.use('ggplot')\n",
    "# put all plots in the notebook itself\n",
    "%matplotlib inline"
   ]
  },
  {
   "cell_type": "markdown",
   "id": "111714d2",
   "metadata": {},
   "source": [
    "## Retrieving Stock Price Data"
   ]
  },
  {
   "cell_type": "markdown",
   "id": "fd2af3c8",
   "metadata": {},
   "source": [
    "We retrieve **end-of-day (get_data_yahoo) price data** for certain instruments. # Use optional"
   ]
  },
  {
   "cell_type": "code",
   "execution_count": 2,
   "id": "dcb4dabd",
   "metadata": {},
   "outputs": [],
   "source": [
    "#%run getData.ipynb"
   ]
  },
  {
   "cell_type": "markdown",
   "id": "7ef0ebf4",
   "metadata": {},
   "source": [
    "### Import Dataset"
   ]
  },
  {
   "cell_type": "code",
   "execution_count": 3,
   "id": "a043bb84",
   "metadata": {},
   "outputs": [],
   "source": [
    "data = pd.read_csv('./dataset/data.csv',\n",
    "                   index_col=0, parse_dates=True)"
   ]
  },
  {
   "cell_type": "markdown",
   "id": "945a263a",
   "metadata": {},
   "source": [
    "We retrieve **end-of-day (EOD) price data** for certain instruments (data source: Thomson Reuters Eikon API)."
   ]
  },
  {
   "cell_type": "code",
   "execution_count": 4,
   "id": "9a7e2cdc",
   "metadata": {},
   "outputs": [],
   "source": [
    "#data = pd.read_csv('http://hilpisch.com/tr_eikon_eod_data.csv',\n",
    "#                   index_col=0, parse_dates=True)"
   ]
  },
  {
   "cell_type": "code",
   "execution_count": 5,
   "id": "c7017534",
   "metadata": {},
   "outputs": [
    {
     "data": {
      "text/plain": [
       "pandas.core.frame.DataFrame"
      ]
     },
     "execution_count": 5,
     "metadata": {},
     "output_type": "execute_result"
    }
   ],
   "source": [
    "type(data) # the object is of **type** `DataFrame`."
   ]
  },
  {
   "cell_type": "code",
   "execution_count": 6,
   "id": "80b8193f",
   "metadata": {},
   "outputs": [
    {
     "name": "stdout",
     "output_type": "stream",
     "text": [
      "<class 'pandas.core.frame.DataFrame'>\n",
      "DatetimeIndex: 3204 entries, 2010-01-04 to 2022-09-23\n",
      "Columns: 439 entries, MMM to ZION\n",
      "dtypes: float64(439)\n",
      "memory usage: 10.8 MB\n"
     ]
    }
   ],
   "source": [
    "data.info() # meta information"
   ]
  },
  {
   "cell_type": "markdown",
   "id": "a0e4a55a",
   "metadata": {},
   "source": [
    "## Working with the Data"
   ]
  },
  {
   "cell_type": "code",
   "execution_count": 7,
   "id": "d9e6a8e2",
   "metadata": {},
   "outputs": [
    {
     "data": {
      "text/html": [
       "<div>\n",
       "<style scoped>\n",
       "    .dataframe tbody tr th:only-of-type {\n",
       "        vertical-align: middle;\n",
       "    }\n",
       "\n",
       "    .dataframe tbody tr th {\n",
       "        vertical-align: top;\n",
       "    }\n",
       "\n",
       "    .dataframe thead th {\n",
       "        text-align: right;\n",
       "    }\n",
       "</style>\n",
       "<table border=\"1\" class=\"dataframe\">\n",
       "  <thead>\n",
       "    <tr style=\"text-align: right;\">\n",
       "      <th></th>\n",
       "      <th>MMM</th>\n",
       "      <th>AOS</th>\n",
       "      <th>ABT</th>\n",
       "      <th>ABMD</th>\n",
       "      <th>ACN</th>\n",
       "      <th>ATVI</th>\n",
       "      <th>ADM</th>\n",
       "      <th>ADBE</th>\n",
       "      <th>ADP</th>\n",
       "      <th>AAP</th>\n",
       "      <th>...</th>\n",
       "      <th>WHR</th>\n",
       "      <th>WMB</th>\n",
       "      <th>WTW</th>\n",
       "      <th>GWW</th>\n",
       "      <th>WYNN</th>\n",
       "      <th>XEL</th>\n",
       "      <th>YUM</th>\n",
       "      <th>ZBRA</th>\n",
       "      <th>ZBH</th>\n",
       "      <th>ZION</th>\n",
       "    </tr>\n",
       "    <tr>\n",
       "      <th>Date</th>\n",
       "      <th></th>\n",
       "      <th></th>\n",
       "      <th></th>\n",
       "      <th></th>\n",
       "      <th></th>\n",
       "      <th></th>\n",
       "      <th></th>\n",
       "      <th></th>\n",
       "      <th></th>\n",
       "      <th></th>\n",
       "      <th></th>\n",
       "      <th></th>\n",
       "      <th></th>\n",
       "      <th></th>\n",
       "      <th></th>\n",
       "      <th></th>\n",
       "      <th></th>\n",
       "      <th></th>\n",
       "      <th></th>\n",
       "      <th></th>\n",
       "      <th></th>\n",
       "    </tr>\n",
       "  </thead>\n",
       "  <tbody>\n",
       "    <tr>\n",
       "      <th>2022-09-19</th>\n",
       "      <td>116.639999</td>\n",
       "      <td>52.590000</td>\n",
       "      <td>104.089996</td>\n",
       "      <td>257.869995</td>\n",
       "      <td>274.980011</td>\n",
       "      <td>75.940002</td>\n",
       "      <td>87.330002</td>\n",
       "      <td>296.059998</td>\n",
       "      <td>235.720001</td>\n",
       "      <td>168.179993</td>\n",
       "      <td>...</td>\n",
       "      <td>147.259995</td>\n",
       "      <td>32.060001</td>\n",
       "      <td>208.759995</td>\n",
       "      <td>535.099976</td>\n",
       "      <td>65.889999</td>\n",
       "      <td>74.529999</td>\n",
       "      <td>116.160004</td>\n",
       "      <td>291.209991</td>\n",
       "      <td>113.400002</td>\n",
       "      <td>58.380001</td>\n",
       "    </tr>\n",
       "    <tr>\n",
       "      <th>2022-09-20</th>\n",
       "      <td>116.519997</td>\n",
       "      <td>51.220001</td>\n",
       "      <td>102.309998</td>\n",
       "      <td>258.989990</td>\n",
       "      <td>270.239990</td>\n",
       "      <td>75.040001</td>\n",
       "      <td>86.750000</td>\n",
       "      <td>291.059998</td>\n",
       "      <td>233.539993</td>\n",
       "      <td>165.869995</td>\n",
       "      <td>...</td>\n",
       "      <td>142.889999</td>\n",
       "      <td>31.830000</td>\n",
       "      <td>208.350006</td>\n",
       "      <td>531.000000</td>\n",
       "      <td>67.800003</td>\n",
       "      <td>73.480003</td>\n",
       "      <td>115.250000</td>\n",
       "      <td>285.649994</td>\n",
       "      <td>111.769997</td>\n",
       "      <td>57.700001</td>\n",
       "    </tr>\n",
       "    <tr>\n",
       "      <th>2022-09-21</th>\n",
       "      <td>114.809998</td>\n",
       "      <td>51.060001</td>\n",
       "      <td>100.650002</td>\n",
       "      <td>252.809998</td>\n",
       "      <td>265.420013</td>\n",
       "      <td>75.320000</td>\n",
       "      <td>86.000000</td>\n",
       "      <td>286.299988</td>\n",
       "      <td>230.419998</td>\n",
       "      <td>165.500000</td>\n",
       "      <td>...</td>\n",
       "      <td>142.500000</td>\n",
       "      <td>31.469999</td>\n",
       "      <td>205.020004</td>\n",
       "      <td>516.750000</td>\n",
       "      <td>63.990002</td>\n",
       "      <td>72.500000</td>\n",
       "      <td>112.570000</td>\n",
       "      <td>285.079987</td>\n",
       "      <td>110.199997</td>\n",
       "      <td>57.099998</td>\n",
       "    </tr>\n",
       "    <tr>\n",
       "      <th>2022-09-22</th>\n",
       "      <td>114.139999</td>\n",
       "      <td>50.520000</td>\n",
       "      <td>101.070000</td>\n",
       "      <td>247.259995</td>\n",
       "      <td>262.320007</td>\n",
       "      <td>77.029999</td>\n",
       "      <td>86.070000</td>\n",
       "      <td>287.059998</td>\n",
       "      <td>230.470001</td>\n",
       "      <td>164.110001</td>\n",
       "      <td>...</td>\n",
       "      <td>140.169998</td>\n",
       "      <td>31.160000</td>\n",
       "      <td>203.399994</td>\n",
       "      <td>504.239990</td>\n",
       "      <td>60.189999</td>\n",
       "      <td>72.449997</td>\n",
       "      <td>110.790001</td>\n",
       "      <td>272.940002</td>\n",
       "      <td>108.010002</td>\n",
       "      <td>55.750000</td>\n",
       "    </tr>\n",
       "    <tr>\n",
       "      <th>2022-09-23</th>\n",
       "      <td>112.989998</td>\n",
       "      <td>49.830002</td>\n",
       "      <td>100.680000</td>\n",
       "      <td>245.529999</td>\n",
       "      <td>259.980011</td>\n",
       "      <td>74.949997</td>\n",
       "      <td>81.650002</td>\n",
       "      <td>284.559998</td>\n",
       "      <td>230.279999</td>\n",
       "      <td>160.500000</td>\n",
       "      <td>...</td>\n",
       "      <td>140.789993</td>\n",
       "      <td>29.150000</td>\n",
       "      <td>200.339996</td>\n",
       "      <td>494.850006</td>\n",
       "      <td>59.650002</td>\n",
       "      <td>71.559998</td>\n",
       "      <td>110.650002</td>\n",
       "      <td>268.040009</td>\n",
       "      <td>106.209999</td>\n",
       "      <td>54.520000</td>\n",
       "    </tr>\n",
       "  </tbody>\n",
       "</table>\n",
       "<p>5 rows × 439 columns</p>\n",
       "</div>"
      ],
      "text/plain": [
       "                   MMM        AOS         ABT        ABMD         ACN  \\\n",
       "Date                                                                    \n",
       "2022-09-19  116.639999  52.590000  104.089996  257.869995  274.980011   \n",
       "2022-09-20  116.519997  51.220001  102.309998  258.989990  270.239990   \n",
       "2022-09-21  114.809998  51.060001  100.650002  252.809998  265.420013   \n",
       "2022-09-22  114.139999  50.520000  101.070000  247.259995  262.320007   \n",
       "2022-09-23  112.989998  49.830002  100.680000  245.529999  259.980011   \n",
       "\n",
       "                 ATVI        ADM        ADBE         ADP         AAP  ...  \\\n",
       "Date                                                                  ...   \n",
       "2022-09-19  75.940002  87.330002  296.059998  235.720001  168.179993  ...   \n",
       "2022-09-20  75.040001  86.750000  291.059998  233.539993  165.869995  ...   \n",
       "2022-09-21  75.320000  86.000000  286.299988  230.419998  165.500000  ...   \n",
       "2022-09-22  77.029999  86.070000  287.059998  230.470001  164.110001  ...   \n",
       "2022-09-23  74.949997  81.650002  284.559998  230.279999  160.500000  ...   \n",
       "\n",
       "                   WHR        WMB         WTW         GWW       WYNN  \\\n",
       "Date                                                                   \n",
       "2022-09-19  147.259995  32.060001  208.759995  535.099976  65.889999   \n",
       "2022-09-20  142.889999  31.830000  208.350006  531.000000  67.800003   \n",
       "2022-09-21  142.500000  31.469999  205.020004  516.750000  63.990002   \n",
       "2022-09-22  140.169998  31.160000  203.399994  504.239990  60.189999   \n",
       "2022-09-23  140.789993  29.150000  200.339996  494.850006  59.650002   \n",
       "\n",
       "                  XEL         YUM        ZBRA         ZBH       ZION  \n",
       "Date                                                                  \n",
       "2022-09-19  74.529999  116.160004  291.209991  113.400002  58.380001  \n",
       "2022-09-20  73.480003  115.250000  285.649994  111.769997  57.700001  \n",
       "2022-09-21  72.500000  112.570000  285.079987  110.199997  57.099998  \n",
       "2022-09-22  72.449997  110.790001  272.940002  108.010002  55.750000  \n",
       "2022-09-23  71.559998  110.650002  268.040009  106.209999  54.520000  \n",
       "\n",
       "[5 rows x 439 columns]"
      ]
     },
     "execution_count": 7,
     "metadata": {},
     "output_type": "execute_result"
    }
   ],
   "source": [
    "data.tail() # final five rows"
   ]
  },
  {
   "cell_type": "markdown",
   "id": "610b86a8",
   "metadata": {},
   "source": [
    "You can easily **select single or multiple columns** of a `DataFrame` object."
   ]
  },
  {
   "cell_type": "code",
   "execution_count": 8,
   "id": "3a981491",
   "metadata": {},
   "outputs": [
    {
     "data": {
      "text/plain": [
       "Date\n",
       "2010-01-04    58.128872\n",
       "2010-01-05    57.764786\n",
       "2010-01-06    58.583992\n",
       "2010-01-07    58.626011\n",
       "2010-01-08    59.039120\n",
       "Name: MMM, dtype: float64"
      ]
     },
     "execution_count": 8,
     "metadata": {},
     "output_type": "execute_result"
    }
   ],
   "source": [
    "data['MMM'].head() # first five rows of single column"
   ]
  },
  {
   "cell_type": "code",
   "execution_count": 9,
   "id": "162354b5",
   "metadata": {},
   "outputs": [
    {
     "data": {
      "text/html": [
       "<div>\n",
       "<style scoped>\n",
       "    .dataframe tbody tr th:only-of-type {\n",
       "        vertical-align: middle;\n",
       "    }\n",
       "\n",
       "    .dataframe tbody tr th {\n",
       "        vertical-align: top;\n",
       "    }\n",
       "\n",
       "    .dataframe thead th {\n",
       "        text-align: right;\n",
       "    }\n",
       "</style>\n",
       "<table border=\"1\" class=\"dataframe\">\n",
       "  <thead>\n",
       "    <tr style=\"text-align: right;\">\n",
       "      <th></th>\n",
       "      <th>AOS</th>\n",
       "      <th>ABT</th>\n",
       "    </tr>\n",
       "    <tr>\n",
       "      <th>Date</th>\n",
       "      <th></th>\n",
       "      <th></th>\n",
       "    </tr>\n",
       "  </thead>\n",
       "  <tbody>\n",
       "    <tr>\n",
       "      <th>2022-09-19</th>\n",
       "      <td>52.590000</td>\n",
       "      <td>104.089996</td>\n",
       "    </tr>\n",
       "    <tr>\n",
       "      <th>2022-09-20</th>\n",
       "      <td>51.220001</td>\n",
       "      <td>102.309998</td>\n",
       "    </tr>\n",
       "    <tr>\n",
       "      <th>2022-09-21</th>\n",
       "      <td>51.060001</td>\n",
       "      <td>100.650002</td>\n",
       "    </tr>\n",
       "    <tr>\n",
       "      <th>2022-09-22</th>\n",
       "      <td>50.520000</td>\n",
       "      <td>101.070000</td>\n",
       "    </tr>\n",
       "    <tr>\n",
       "      <th>2022-09-23</th>\n",
       "      <td>49.830002</td>\n",
       "      <td>100.680000</td>\n",
       "    </tr>\n",
       "  </tbody>\n",
       "</table>\n",
       "</div>"
      ],
      "text/plain": [
       "                  AOS         ABT\n",
       "Date                             \n",
       "2022-09-19  52.590000  104.089996\n",
       "2022-09-20  51.220001  102.309998\n",
       "2022-09-21  51.060001  100.650002\n",
       "2022-09-22  50.520000  101.070000\n",
       "2022-09-23  49.830002  100.680000"
      ]
     },
     "execution_count": 9,
     "metadata": {},
     "output_type": "execute_result"
    }
   ],
   "source": [
    "data[['AOS', 'ABT']].tail() # last five rows of 2 columns"
   ]
  },
  {
   "cell_type": "markdown",
   "id": "2e531d70",
   "metadata": {},
   "source": [
    "Similarly, you can select **single or multiple rows**."
   ]
  },
  {
   "cell_type": "code",
   "execution_count": 10,
   "id": "d8983497",
   "metadata": {},
   "outputs": [
    {
     "data": {
      "text/plain": [
       "MMM     58.128872\n",
       "AOS      6.179977\n",
       "ABT     19.613131\n",
       "ABMD     8.740000\n",
       "ACN     33.117538\n",
       "          ...    \n",
       "XEL     13.597205\n",
       "YUM     19.706152\n",
       "ZBRA    28.670000\n",
       "ZBH     53.314457\n",
       "ZION    11.218827\n",
       "Name: 2010-01-04 00:00:00, Length: 439, dtype: float64"
      ]
     },
     "execution_count": 10,
     "metadata": {},
     "output_type": "execute_result"
    }
   ],
   "source": [
    "data.loc['2010-01-04'] # single row via index value"
   ]
  },
  {
   "cell_type": "code",
   "execution_count": 11,
   "id": "dd9d7121",
   "metadata": {},
   "outputs": [
    {
     "data": {
      "text/html": [
       "<div>\n",
       "<style scoped>\n",
       "    .dataframe tbody tr th:only-of-type {\n",
       "        vertical-align: middle;\n",
       "    }\n",
       "\n",
       "    .dataframe tbody tr th {\n",
       "        vertical-align: top;\n",
       "    }\n",
       "\n",
       "    .dataframe thead th {\n",
       "        text-align: right;\n",
       "    }\n",
       "</style>\n",
       "<table border=\"1\" class=\"dataframe\">\n",
       "  <thead>\n",
       "    <tr style=\"text-align: right;\">\n",
       "      <th></th>\n",
       "      <th>MMM</th>\n",
       "      <th>AOS</th>\n",
       "      <th>ABT</th>\n",
       "      <th>ABMD</th>\n",
       "      <th>ACN</th>\n",
       "      <th>ATVI</th>\n",
       "      <th>ADM</th>\n",
       "      <th>ADBE</th>\n",
       "      <th>ADP</th>\n",
       "      <th>AAP</th>\n",
       "      <th>...</th>\n",
       "      <th>WHR</th>\n",
       "      <th>WMB</th>\n",
       "      <th>WTW</th>\n",
       "      <th>GWW</th>\n",
       "      <th>WYNN</th>\n",
       "      <th>XEL</th>\n",
       "      <th>YUM</th>\n",
       "      <th>ZBRA</th>\n",
       "      <th>ZBH</th>\n",
       "      <th>ZION</th>\n",
       "    </tr>\n",
       "    <tr>\n",
       "      <th>Date</th>\n",
       "      <th></th>\n",
       "      <th></th>\n",
       "      <th></th>\n",
       "      <th></th>\n",
       "      <th></th>\n",
       "      <th></th>\n",
       "      <th></th>\n",
       "      <th></th>\n",
       "      <th></th>\n",
       "      <th></th>\n",
       "      <th></th>\n",
       "      <th></th>\n",
       "      <th></th>\n",
       "      <th></th>\n",
       "      <th></th>\n",
       "      <th></th>\n",
       "      <th></th>\n",
       "      <th></th>\n",
       "      <th></th>\n",
       "      <th></th>\n",
       "      <th></th>\n",
       "    </tr>\n",
       "  </thead>\n",
       "  <tbody>\n",
       "    <tr>\n",
       "      <th>2010-01-04</th>\n",
       "      <td>58.128872</td>\n",
       "      <td>6.179977</td>\n",
       "      <td>19.613131</td>\n",
       "      <td>8.74</td>\n",
       "      <td>33.117538</td>\n",
       "      <td>10.018279</td>\n",
       "      <td>22.611660</td>\n",
       "      <td>37.090000</td>\n",
       "      <td>27.624422</td>\n",
       "      <td>37.555935</td>\n",
       "      <td>...</td>\n",
       "      <td>58.489887</td>\n",
       "      <td>9.215943</td>\n",
       "      <td>54.241116</td>\n",
       "      <td>77.202614</td>\n",
       "      <td>41.963726</td>\n",
       "      <td>13.597205</td>\n",
       "      <td>19.706152</td>\n",
       "      <td>28.670000</td>\n",
       "      <td>53.314457</td>\n",
       "      <td>11.218827</td>\n",
       "    </tr>\n",
       "    <tr>\n",
       "      <th>2010-01-05</th>\n",
       "      <td>57.764786</td>\n",
       "      <td>6.101012</td>\n",
       "      <td>19.454662</td>\n",
       "      <td>8.53</td>\n",
       "      <td>33.322208</td>\n",
       "      <td>10.036011</td>\n",
       "      <td>22.733807</td>\n",
       "      <td>37.700001</td>\n",
       "      <td>27.476080</td>\n",
       "      <td>37.332722</td>\n",
       "      <td>...</td>\n",
       "      <td>58.368587</td>\n",
       "      <td>9.331087</td>\n",
       "      <td>54.119553</td>\n",
       "      <td>77.234360</td>\n",
       "      <td>44.515923</td>\n",
       "      <td>13.435948</td>\n",
       "      <td>19.638758</td>\n",
       "      <td>28.620001</td>\n",
       "      <td>55.002193</td>\n",
       "      <td>11.614383</td>\n",
       "    </tr>\n",
       "  </tbody>\n",
       "</table>\n",
       "<p>2 rows × 439 columns</p>\n",
       "</div>"
      ],
      "text/plain": [
       "                  MMM       AOS        ABT  ABMD        ACN       ATVI  \\\n",
       "Date                                                                     \n",
       "2010-01-04  58.128872  6.179977  19.613131  8.74  33.117538  10.018279   \n",
       "2010-01-05  57.764786  6.101012  19.454662  8.53  33.322208  10.036011   \n",
       "\n",
       "                  ADM       ADBE        ADP        AAP  ...        WHR  \\\n",
       "Date                                                    ...              \n",
       "2010-01-04  22.611660  37.090000  27.624422  37.555935  ...  58.489887   \n",
       "2010-01-05  22.733807  37.700001  27.476080  37.332722  ...  58.368587   \n",
       "\n",
       "                 WMB        WTW        GWW       WYNN        XEL        YUM  \\\n",
       "Date                                                                          \n",
       "2010-01-04  9.215943  54.241116  77.202614  41.963726  13.597205  19.706152   \n",
       "2010-01-05  9.331087  54.119553  77.234360  44.515923  13.435948  19.638758   \n",
       "\n",
       "                 ZBRA        ZBH       ZION  \n",
       "Date                                         \n",
       "2010-01-04  28.670000  53.314457  11.218827  \n",
       "2010-01-05  28.620001  55.002193  11.614383  \n",
       "\n",
       "[2 rows x 439 columns]"
      ]
     },
     "execution_count": 11,
     "metadata": {},
     "output_type": "execute_result"
    }
   ],
   "source": [
    "data.iloc[:2] # two rows via index numbers"
   ]
  },
  {
   "cell_type": "markdown",
   "id": "fe788511",
   "metadata": {},
   "source": [
    "## Data Visualization"
   ]
  },
  {
   "cell_type": "code",
   "execution_count": 12,
   "id": "d10b8628",
   "metadata": {},
   "outputs": [
    {
     "data": {
      "image/png": "[encoded data removed]",
      "text/plain": [
       "<Figure size 720x432 with 1 Axes>"
      ]
     },
     "metadata": {
      "needs_background": "light"
     },
     "output_type": "display_data"
    }
   ],
   "source": [
    "data['ZION'].plot(figsize=(10, 6)); # here is also a powerful **method for plotting**."
   ]
  },
  {
   "cell_type": "markdown",
   "id": "6f8ed913",
   "metadata": {},
   "source": [
    "Let us calculate the ZION stock price **log returns**."
   ]
  },
  {
   "cell_type": "code",
   "execution_count": 13,
   "id": "47b400d2",
   "metadata": {},
   "outputs": [],
   "source": [
    "rets= np.log(data['ZION'] /data['ZION'].shift(1))"
   ]
  },
  {
   "cell_type": "markdown",
   "id": "a1eae1ad",
   "metadata": {},
   "source": [
    "The log returns can then be visualized via a **histogram**."
   ]
  },
  {
   "cell_type": "code",
   "execution_count": 14,
   "id": "153ee88c",
   "metadata": {},
   "outputs": [
    {
     "data": {
      "image/png": "[encoded data removed]",
      "text/plain": [
       "<Figure size 720x432 with 1 Axes>"
      ]
     },
     "metadata": {
      "needs_background": "light"
     },
     "output_type": "display_data"
    }
   ],
   "source": [
    "rets.hist(figsize=(10,6), bins=35);"
   ]
  },
  {
   "cell_type": "markdown",
   "id": "b8e2fcaf",
   "metadata": {},
   "source": [
    "## Calculating a Moving Average"
   ]
  },
  {
   "cell_type": "markdown",
   "id": "18e6778d",
   "metadata": {},
   "source": [
    "pandas provides, among others, convenience functions for the calculation of **moving averages**."
   ]
  },
  {
   "cell_type": "code",
   "execution_count": 15,
   "id": "ae734e5a",
   "metadata": {},
   "outputs": [],
   "source": [
    "# fully vectorized calculation of 50 days simple moving average/trend\n",
    "data['SMA50'] = data['ZION'].rolling(50).mean()\n",
    "data.dropna(inplace=True) "
   ]
  },
  {
   "cell_type": "code",
   "execution_count": 16,
   "id": "fc02664f",
   "metadata": {},
   "outputs": [
    {
     "data": {
      "image/png": "[encoded data removed]",
      "text/plain": [
       "<Figure size 720x432 with 1 Axes>"
      ]
     },
     "metadata": {
      "needs_background": "light"
     },
     "output_type": "display_data"
    }
   ],
   "source": [
    "data[['ZION','SMA50']].plot(figsize=(10,6));"
   ]
  },
  {
   "cell_type": "code",
   "execution_count": 17,
   "id": "84c7af3e",
   "metadata": {},
   "outputs": [],
   "source": [
    "# fully vectorized calculation of 9 days standard deviation/trend\n",
    "data['STD'] = data['ZION'].rolling(window=9).std()"
   ]
  },
  {
   "cell_type": "code",
   "execution_count": 18,
   "id": "3d5d53b7",
   "metadata": {},
   "outputs": [],
   "source": [
    "# fully vectorized calculation of 21 days max value/trend\n",
    "data['MAX'] = data['ZION'].rolling(21).max()\n",
    "data.dropna(inplace=True)"
   ]
  },
  {
   "cell_type": "code",
   "execution_count": 19,
   "id": "987bdee2",
   "metadata": {},
   "outputs": [
    {
     "data": {
      "text/html": [
       "<div>\n",
       "<style scoped>\n",
       "    .dataframe tbody tr th:only-of-type {\n",
       "        vertical-align: middle;\n",
       "    }\n",
       "\n",
       "    .dataframe tbody tr th {\n",
       "        vertical-align: top;\n",
       "    }\n",
       "\n",
       "    .dataframe thead th {\n",
       "        text-align: right;\n",
       "    }\n",
       "</style>\n",
       "<table border=\"1\" class=\"dataframe\">\n",
       "  <thead>\n",
       "    <tr style=\"text-align: right;\">\n",
       "      <th></th>\n",
       "      <th>ZION</th>\n",
       "      <th>STD</th>\n",
       "      <th>MAX</th>\n",
       "    </tr>\n",
       "    <tr>\n",
       "      <th>Date</th>\n",
       "      <th></th>\n",
       "      <th></th>\n",
       "      <th></th>\n",
       "    </tr>\n",
       "  </thead>\n",
       "  <tbody>\n",
       "    <tr>\n",
       "      <th>2010-04-14</th>\n",
       "      <td>22.197496</td>\n",
       "      <td>1.026537</td>\n",
       "      <td>22.197496</td>\n",
       "    </tr>\n",
       "    <tr>\n",
       "      <th>2010-04-15</th>\n",
       "      <td>22.012234</td>\n",
       "      <td>0.901637</td>\n",
       "      <td>22.197496</td>\n",
       "    </tr>\n",
       "    <tr>\n",
       "      <th>2010-04-16</th>\n",
       "      <td>21.498564</td>\n",
       "      <td>0.824324</td>\n",
       "      <td>22.197496</td>\n",
       "    </tr>\n",
       "    <tr>\n",
       "      <th>2010-04-19</th>\n",
       "      <td>21.414358</td>\n",
       "      <td>0.819599</td>\n",
       "      <td>22.197496</td>\n",
       "    </tr>\n",
       "    <tr>\n",
       "      <th>2010-04-20</th>\n",
       "      <td>23.090111</td>\n",
       "      <td>0.975081</td>\n",
       "      <td>23.090111</td>\n",
       "    </tr>\n",
       "    <tr>\n",
       "      <th>...</th>\n",
       "      <td>...</td>\n",
       "      <td>...</td>\n",
       "      <td>...</td>\n",
       "    </tr>\n",
       "    <tr>\n",
       "      <th>2022-09-19</th>\n",
       "      <td>58.380001</td>\n",
       "      <td>0.812820</td>\n",
       "      <td>58.970001</td>\n",
       "    </tr>\n",
       "    <tr>\n",
       "      <th>2022-09-20</th>\n",
       "      <td>57.700001</td>\n",
       "      <td>0.546283</td>\n",
       "      <td>58.970001</td>\n",
       "    </tr>\n",
       "    <tr>\n",
       "      <th>2022-09-21</th>\n",
       "      <td>57.099998</td>\n",
       "      <td>0.650233</td>\n",
       "      <td>58.970001</td>\n",
       "    </tr>\n",
       "    <tr>\n",
       "      <th>2022-09-22</th>\n",
       "      <td>55.750000</td>\n",
       "      <td>0.955785</td>\n",
       "      <td>58.970001</td>\n",
       "    </tr>\n",
       "    <tr>\n",
       "      <th>2022-09-23</th>\n",
       "      <td>54.520000</td>\n",
       "      <td>1.363379</td>\n",
       "      <td>58.970001</td>\n",
       "    </tr>\n",
       "  </tbody>\n",
       "</table>\n",
       "<p>3135 rows × 3 columns</p>\n",
       "</div>"
      ],
      "text/plain": [
       "                 ZION       STD        MAX\n",
       "Date                                      \n",
       "2010-04-14  22.197496  1.026537  22.197496\n",
       "2010-04-15  22.012234  0.901637  22.197496\n",
       "2010-04-16  21.498564  0.824324  22.197496\n",
       "2010-04-19  21.414358  0.819599  22.197496\n",
       "2010-04-20  23.090111  0.975081  23.090111\n",
       "...               ...       ...        ...\n",
       "2022-09-19  58.380001  0.812820  58.970001\n",
       "2022-09-20  57.700001  0.546283  58.970001\n",
       "2022-09-21  57.099998  0.650233  58.970001\n",
       "2022-09-22  55.750000  0.955785  58.970001\n",
       "2022-09-23  54.520000  1.363379  58.970001\n",
       "\n",
       "[3135 rows x 3 columns]"
      ]
     },
     "execution_count": 19,
     "metadata": {},
     "output_type": "execute_result"
    }
   ],
   "source": [
    "data[['ZION','STD','MAX']]"
   ]
  },
  {
   "cell_type": "markdown",
   "id": "0edbfb0d",
   "metadata": {},
   "source": [
    "# End!"
   ]
  }
 ],
 "metadata": {
  "kernelspec": {
   "display_name": "Python 3 (ipykernel)",
   "language": "python",
   "name": "python3"
  },
  "language_info": {
   "codemirror_mode": {
    "name": "ipython",
    "version": 3
   },
   "file_extension": ".py",
   "mimetype": "text/x-python",
   "name": "python",
   "nbconvert_exporter": "python",
   "pygments_lexer": "ipython3",
   "version": "3.9.12"
  }
 },
 "nbformat": 4,
 "nbformat_minor": 5
}
