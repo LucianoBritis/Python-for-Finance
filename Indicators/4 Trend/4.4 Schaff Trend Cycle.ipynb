{
 "cells": [
  {
   "attachments": {},
   "cell_type": "markdown",
   "id": "44c692c7",
   "metadata": {},
   "source": [
    "![purple-divider](https://user-images.githubusercontent.com/7065401/52071927-c1cd7100-2562-11e9-908a-dde91ba14e59.png)\n",
    "\n",
    "### Schaff Trend Cycle (STC)"
   ]
  },
  {
   "cell_type": "code",
   "execution_count": null,
   "id": "0887d3cc",
   "metadata": {},
   "outputs": [],
   "source": [
    "import pandas as pd\n",
    "\n",
    "# Dynamic graphics visualization\n",
    "import matplotlib.pyplot as plt\n",
    "\n",
    "# Calculate technical analysis indicators\n",
    "import plotly.graph_objects as go\n",
    "from plotly.subplots import make_subplots\n",
    "\n",
    "# import da biblioteca\n",
    "from pandas_datareader import data as pdr\n",
    "\n",
    "import yfinance as yf\n",
    "yf.pdr_override() # <== that's all it takes :-)\n",
    "import ta\n",
    "\n",
    "# Trend Indicators\n",
    "from ta.trend import STCIndicator\n",
    "\n",
    "import numpy as np\n",
    "np.seterr(divide='ignore', invalid='ignore')\n",
    "\n",
    "import warnings\n",
    "warnings.simplefilter(action=\"ignore\", category=FutureWarning)"
   ]
  },
  {
   "attachments": {},
   "cell_type": "markdown",
   "id": "4b8ee2db",
   "metadata": {},
   "source": [
    "![green-divider](https://user-images.githubusercontent.com/7065401/52071924-c003ad80-2562-11e9-8297-1c6595f8a7ff.png)\n",
    "\n",
    "### Prepare Data"
   ]
  },
  {
   "cell_type": "code",
   "execution_count": null,
   "id": "1443ec5b",
   "metadata": {},
   "outputs": [],
   "source": [
    "def wrangle(ticker:str, start:str, end: str) -> pd.DataFrame : \n",
    "    yf_start = start\n",
    "    yf_end = end\n",
    "    # download dframe\n",
    "    df = pdr.get_data_yahoo(f'{ticker}'+'.SA', start = yf_start, end = yf_end)\n",
    "    df.columns = [label.replace(' ', '_') for label in df.columns]\n",
    "    df.columns = [label.lower() for label in df.columns]       \n",
    "      \n",
    "    return df"
   ]
  },
  {
   "cell_type": "code",
   "execution_count": null,
   "id": "b527f4d0",
   "metadata": {},
   "outputs": [],
   "source": [
    "# Loading data\n",
    "df = wrangle(ticker='PETR4',start='2022-05-14', end='2023-05-14')\n",
    "print(df.shape)\n",
    "df.tail(2) "
   ]
  },
  {
   "attachments": {},
   "cell_type": "markdown",
   "id": "b8d219c8",
   "metadata": {},
   "source": [
    "![green-divider](https://user-images.githubusercontent.com/7065401/52071924-c003ad80-2562-11e9-8297-1c6595f8a7ff.png)\n",
    "\n",
    "### Schaff Trend: A Faster and More Accurate Indicator"
   ]
  },
  {
   "attachments": {},
   "cell_type": "markdown",
   "id": "45f7f366",
   "metadata": {},
   "source": [
    "[investopedia](https://www.investopedia.com/articles/forex/10/schaff-trend-cycle-indicator.asp)    "
   ]
  },
  {
   "cell_type": "code",
   "execution_count": null,
   "id": "188bd47a",
   "metadata": {},
   "outputs": [],
   "source": [
    "def stc(df):\n",
    "    \"\"\"Parameters\n",
    "    Close (pandas.Series): dataset 'Close' column.\n",
    "    window_fast (int):n period short-term.\n",
    "    window_slow (int): n period long-term.\n",
    "    cycle (int): cycle size.\n",
    "    smooth1 (int): ema period over stoch_k.\n",
    "    smooth2 (int): ema period over stoch_kd.\n",
    "    \n",
    "    \"\"\"\n",
    "    # Adicionando o indicador ao dataframe \n",
    "    window_stc = STCIndicator(df['close'], window_slow = 50, window_fast=23, cycle=10, smooth1=3, smooth2=3)\n",
    "    df['stc'] = window_stc.stc()  \n",
    "\n",
    "    df = df.dropna()\n",
    "    return df  "
   ]
  },
  {
   "cell_type": "code",
   "execution_count": null,
   "id": "9d814fef",
   "metadata": {},
   "outputs": [],
   "source": [
    "df = stc(df)\n",
    "print(df.shape)\n",
    "df.tail() "
   ]
  },
  {
   "attachments": {},
   "cell_type": "markdown",
   "id": "c42b20cb",
   "metadata": {},
   "source": [
    "![green-divider](https://user-images.githubusercontent.com/7065401/52071924-c003ad80-2562-11e9-8297-1c6595f8a7ff.png)\n",
    "\n",
    "### Data Cleaning"
   ]
  },
  {
   "cell_type": "code",
   "execution_count": null,
   "id": "77c3577e",
   "metadata": {},
   "outputs": [],
   "source": [
    "df.isna().sum()"
   ]
  },
  {
   "attachments": {},
   "cell_type": "markdown",
   "id": "b9576c9d",
   "metadata": {},
   "source": [
    "![green-divider](https://user-images.githubusercontent.com/7065401/52071924-c003ad80-2562-11e9-8297-1c6595f8a7ff.png)\n",
    "\n",
    "### Visualização"
   ]
  },
  {
   "cell_type": "code",
   "execution_count": null,
   "id": "d31ad80c",
   "metadata": {},
   "outputs": [],
   "source": [
    "fig = go.Figure()\n",
    "fig = make_subplots(rows=2, cols=1)\n",
    "\n",
    "fig.add_trace(go.Scatter(name='STC',x=df.index, y=df['stc']),row=2, col=1)\n",
    "fig.add_trace(go.Candlestick(name='PETR4', x=df.index, open=df['open'],low=df['low'],high=df['high'],close=df['close']), row=1, col=1)\n",
    "\n",
    "fig.update_layout(xaxis_rangeslider_visible=False, title_text = 'Schaff Trend Cycle')\n",
    "fig.show()\n"
   ]
  },
  {
   "attachments": {},
   "cell_type": "markdown",
   "id": "7fbe9357",
   "metadata": {},
   "source": [
    "![stc](https://github.com/LucianoBritis/datasciencecoursera/assets/13219648/63956532-12be-444d-936f-0947bdeb47ca)"
   ]
  },
  {
   "attachments": {},
   "cell_type": "markdown",
   "id": "c622786a",
   "metadata": {},
   "source": [
    "![purple-divider](https://user-images.githubusercontent.com/7065401/52071927-c1cd7100-2562-11e9-908a-dde91ba14e59.png)"
   ]
  }
 ],
 "metadata": {
  "kernelspec": {
   "display_name": "sml",
   "language": "python",
   "name": "python3"
  },
  "language_info": {
   "codemirror_mode": {
    "name": "ipython",
    "version": 3
   },
   "file_extension": ".py",
   "mimetype": "text/x-python",
   "name": "python",
   "nbconvert_exporter": "python",
   "pygments_lexer": "ipython3",
   "version": "3.9.16"
  },
  "vscode": {
   "interpreter": {
    "hash": "eceeaa0a81428e111eaa5958f06f00893c99baf9a0a828623eb9ddbe7580aa31"
   }
  }
 },
 "nbformat": 4,
 "nbformat_minor": 5
}
