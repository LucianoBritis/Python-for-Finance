{
 "cells": [
  {
   "attachments": {},
   "cell_type": "markdown",
   "id": "eed30b83",
   "metadata": {},
   "source": [
    "![purple-divider](https://user-images.githubusercontent.com/7065401/52071927-c1cd7100-2562-11e9-908a-dde91ba14e59.png)\n",
    "\n",
    "### The average directional index (ADX)"
   ]
  },
  {
   "cell_type": "code",
   "execution_count": null,
   "id": "92d2e2d0",
   "metadata": {},
   "outputs": [],
   "source": [
    "import pandas as pd\n",
    "\n",
    "# Dynamic graphics visualization\n",
    "import matplotlib.pyplot as plt\n",
    "\n",
    "# Calculate technical analysis indicators\n",
    "import plotly.graph_objects as go\n",
    "from plotly.subplots import make_subplots\n",
    "\n",
    "# import da biblioteca\n",
    "from pandas_datareader import data as pdr\n",
    "\n",
    "import yfinance as yf\n",
    "yf.pdr_override() # <== that's all it takes :-)\n",
    "import ta\n",
    "\n",
    "# Trend Indicators\n",
    "from ta.trend import ADXIndicator\n",
    "\n",
    "import numpy as np\n",
    "np.seterr(divide='ignore', invalid='ignore')\n",
    "\n",
    "import warnings\n",
    "warnings.simplefilter(action=\"ignore\", category=FutureWarning)"
   ]
  },
  {
   "attachments": {},
   "cell_type": "markdown",
   "id": "80dde3aa",
   "metadata": {},
   "source": [
    "![green-divider](https://user-images.githubusercontent.com/7065401/52071924-c003ad80-2562-11e9-8297-1c6595f8a7ff.png)\n",
    "\n",
    "### Prepare Data"
   ]
  },
  {
   "cell_type": "code",
   "execution_count": null,
   "id": "33f466a5",
   "metadata": {},
   "outputs": [],
   "source": [
    "def wrangle(ticker:str, start:str, end: str) -> pd.DataFrame : \n",
    "    yf_start = start\n",
    "    yf_end = end\n",
    "    # download dataframe\n",
    "    df = pdr.get_data_yahoo(f'{ticker}'+'.SA', start = yf_start, end = yf_end)\n",
    "    df.columns = [label.replace(' ', '_') for label in df.columns]\n",
    "    df.columns = [label.lower() for label in df.columns]       \n",
    "      \n",
    "    return df"
   ]
  },
  {
   "cell_type": "code",
   "execution_count": null,
   "id": "ad31529b",
   "metadata": {},
   "outputs": [],
   "source": [
    "# Loading data\n",
    "df = wrangle(ticker='PETR4',start='2022-05-14', end='2023-05-14')\n",
    "print(df.shape)\n",
    "df.tail(2) "
   ]
  },
  {
   "attachments": {},
   "cell_type": "markdown",
   "id": "1161234c",
   "metadata": {},
   "source": [
    "Índice de Movimento Direcional Médio (ADX)\n",
    "\n",
    "O indicador direcional mais (+DI) e o indicador direcional menos (-DI) são derivados de médias suavizadas dessas diferenças e medem a tendência direção ao longo do tempo. Estes dois indicadores são frequentemente referidos coletivamente como o Indicador de Movimento Direcional (DMI).\n",
    "\n",
    "O índice direcional médio (ADX) é, por sua vez, derivado do suavizado médias da diferença entre +DI e -DI, e mede a força da tendência (independentemente da direção) ao longo do tempo.\n",
    "\n",
    "Usando esses três indicadores juntos, os chartistas podem determinar tanto o direção e força da tendência."
   ]
  },
  {
   "cell_type": "code",
   "execution_count": null,
   "id": "7b7d91c6",
   "metadata": {},
   "outputs": [],
   "source": [
    "def adx(df):\n",
    "    \"\"\"Parameters\n",
    "    High (pandas.Series):  dataset 'High' column.\n",
    "    Low (pandas.Series): dataset 'Low' column.\n",
    "    Close (pandas.Series): dataset 'Close' column.\n",
    "    Window (int): n period.\n",
    "    \"\"\"\n",
    "# Adicionando o indicador ao dataframe\n",
    "    x = ADXIndicator(df['high'], df['low'], df['close'], window=14)\n",
    "    df['ADX'] = x.adx() # Average Directional Index\n",
    "    df['+DI'] = x.adx_pos() # Plus Directional Indicator (+DI)\n",
    "    df['-DI'] = x.adx_neg() # Minus Directional Indicator (-DI)\n",
    "    df.columns = [label.lower() for label in df.columns]   \n",
    "    df = df.dropna()\n",
    "    return df  "
   ]
  },
  {
   "cell_type": "code",
   "execution_count": null,
   "id": "be42e5ff",
   "metadata": {},
   "outputs": [],
   "source": [
    "df = adx(df)\n",
    "print(df.shape)\n",
    "df.tail() "
   ]
  },
  {
   "attachments": {},
   "cell_type": "markdown",
   "id": "cb864dc3",
   "metadata": {},
   "source": [
    "![green-divider](https://user-images.githubusercontent.com/7065401/52071924-c003ad80-2562-11e9-8297-1c6595f8a7ff.png)\n",
    "\n",
    "### Data Cleaning"
   ]
  },
  {
   "cell_type": "code",
   "execution_count": null,
   "id": "937338a1",
   "metadata": {},
   "outputs": [],
   "source": [
    "df.isna().sum()"
   ]
  },
  {
   "attachments": {},
   "cell_type": "markdown",
   "id": "efeef271",
   "metadata": {},
   "source": [
    "![green-divider](https://user-images.githubusercontent.com/7065401/52071924-c003ad80-2562-11e9-8297-1c6595f8a7ff.png)\n",
    "\n",
    "### Visualization"
   ]
  },
  {
   "cell_type": "code",
   "execution_count": null,
   "id": "47534c7a",
   "metadata": {},
   "outputs": [],
   "source": [
    "fig = make_subplots(rows=2, cols=1, specs=[[{\"secondary_y\":True }],[{\"secondary_y\":True}]])\n",
    "# PPO Indicator\n",
    "fig.add_trace(go.Scatter(name ='ADX', x=df.index, y=df['adx']), row=2, col=1)\n",
    "# Histogram\n",
    "fig.add_trace(go.Scatter(name='+DI', x=df.index, y=df['+di']),row=2, col=1, secondary_y = True )\n",
    "# Line graph, PPO sign\n",
    "fig.add_trace(go.Scatter(name='-DI', x=df.index, y=df['-di']),row=2, col=1)\n",
    "# Candlestick chart, PPO signal\n",
    "fig.add_trace(go.Candlestick(name='PETR4', x=df.index, open=df['open'], low=df['low'], high=df['high'], close=df['close']), row=1, col=1)\n",
    "fig.update_layout(xaxis_rangeslider_visible=False, title_text ='Average Directional Index') \n",
    "fig.show();"
   ]
  },
  {
   "attachments": {},
   "cell_type": "markdown",
   "id": "1f4314f1",
   "metadata": {},
   "source": [
    "![adx](https://github.com/LucianoBritis/datasciencecoursera/assets/13219648/d61e2baa-7bbb-48b4-adbf-94d4b942e881)"
   ]
  },
  {
   "attachments": {},
   "cell_type": "markdown",
   "id": "cc102aa8",
   "metadata": {},
   "source": [
    "![adx](https://github.com/LucianoBritis/datasciencecoursera/assets/13219648/d61e2baa-7bbb-48b4-adbf-94d4b942e881)"
   ]
  },
  {
   "attachments": {},
   "cell_type": "markdown",
   "id": "06966ebd",
   "metadata": {},
   "source": [
    "![purple-divider](https://user-images.githubusercontent.com/7065401/52071927-c1cd7100-2562-11e9-908a-dde91ba14e59.png)"
   ]
  }
 ],
 "metadata": {
  "kernelspec": {
   "display_name": "sml",
   "language": "python",
   "name": "python3"
  },
  "language_info": {
   "codemirror_mode": {
    "name": "ipython",
    "version": 3
   },
   "file_extension": ".py",
   "mimetype": "text/x-python",
   "name": "python",
   "nbconvert_exporter": "python",
   "pygments_lexer": "ipython3",
   "version": "3.9.16"
  },
  "vscode": {
   "interpreter": {
    "hash": "eceeaa0a81428e111eaa5958f06f00893c99baf9a0a828623eb9ddbe7580aa31"
   }
  }
 },
 "nbformat": 4,
 "nbformat_minor": 5
}
